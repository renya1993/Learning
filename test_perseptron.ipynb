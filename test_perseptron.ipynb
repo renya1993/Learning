{
  "nbformat": 4,
  "nbformat_minor": 0,
  "metadata": {
    "colab": {
      "name": "test_perseptron.ipynb",
      "provenance": [],
      "collapsed_sections": [],
      "authorship_tag": "ABX9TyPnWEDkzghMUbbw/XytYbuW",
      "include_colab_link": true
    },
    "kernelspec": {
      "name": "python3",
      "display_name": "Python 3"
    }
  },
  "cells": [
    {
      "cell_type": "markdown",
      "metadata": {
        "id": "view-in-github",
        "colab_type": "text"
      },
      "source": [
        "<a href=\"https://colab.research.google.com/github/renya1993/Learning/blob/main/test_perseptron.ipynb\" target=\"_parent\"><img src=\"https://colab.research.google.com/assets/colab-badge.svg\" alt=\"Open In Colab\"/></a>"
      ]
    },
    {
      "cell_type": "code",
      "metadata": {
        "id": "zP9yM0RKNvnr"
      },
      "source": [
        ""
      ],
      "execution_count": 1,
      "outputs": []
    },
    {
      "cell_type": "code",
      "metadata": {
        "colab": {
          "base_uri": "https://localhost:8080/",
          "height": 134
        },
        "id": "RpeN85W6Nyb5",
        "outputId": "53276d0b-7e8d-47e1-caa5-4e2c7403de1a"
      },
      "source": [
        "if __name__ == \"__main__\":\n",
        "  #ランダムシードの決定。これで、ランダムな値がある一定の値に決められる\n",
        "  np.random.seed(123)\n",
        "\n",
        "  \"\"\"\n",
        "  データの準備\n",
        "  \"\"\"\n",
        "\n",
        "  import numpy as np\n",
        "  d = 2 #次元数\n",
        "  N = 20 #行の数\n",
        "  mean = 5 #ただの変数\n",
        "\n",
        "  #データ\n",
        "  x1 = np.random.randn(N//2,d)\n",
        "  x2 = np.random.randn(N//2,d)+np.array([mean,mean])\n",
        "  t1 = np.zeros(N//2)\n",
        "  t2 = np.ones(N//2)\n",
        "  x = np.concatenate((x1,x2),axis=0)　#学習データ\n",
        "  t = np.concatenate((t1,t2),axis=0) #教師データ\n"
      ],
      "execution_count": 71,
      "outputs": [
        {
          "output_type": "error",
          "ename": "SyntaxError",
          "evalue": "ignored",
          "traceback": [
            "\u001b[0;36m  File \u001b[0;32m\"<ipython-input-71-928e34a98582>\"\u001b[0;36m, line \u001b[0;32m19\u001b[0m\n\u001b[0;31m    x = np.concatenate((x1,x2),axis=0)　#学習データ\u001b[0m\n\u001b[0m                                      ^\u001b[0m\n\u001b[0;31mSyntaxError\u001b[0m\u001b[0;31m:\u001b[0m invalid character in identifier\n"
          ]
        }
      ]
    },
    {
      "cell_type": "code",
      "metadata": {
        "colab": {
          "base_uri": "https://localhost:8080/"
        },
        "id": "C2O6EWnZO_QY",
        "outputId": "e6092d64-e9b3-4fbb-8233-39353b8a1a5c"
      },
      "source": [
        "  \"\"\"\n",
        "  実際に学習\n",
        "  \"\"\"\n",
        "\n",
        "  model = SimplePerceptron(input_dim=d)\n",
        "  while True:\n",
        "    #学習できてるかどうかに仕様\n",
        "    classified = True\n",
        "    \n",
        "    for i in range(N):\n",
        "      #学習データの計算結果と、教師データから分かる計算をする\n",
        "      loss = train_step(x[i],t[i])\n",
        "      #N回全部loss=Trueであれば、もう学習の必要ないため、終わらせる。\n",
        "      classified *= loss\n",
        "    if classified:\n",
        "      break\n",
        "  np.random.seed(123)\n",
        "  print('w:', model.w)  # => w: [1.660725   1.49465147]\n",
        "  print('b:', model.b)  # => b: -10.0"
      ],
      "execution_count": 91,
      "outputs": [
        {
          "output_type": "stream",
          "text": [
            "w: [1.47078121 1.4284199 ]\n",
            "b: -9.0\n"
          ],
          "name": "stdout"
        }
      ]
    },
    {
      "cell_type": "code",
      "metadata": {
        "id": "b5EQRfLMQypK"
      },
      "source": [
        "  \"\"\"\n",
        "  学習の補足分\n",
        "  \"\"\"\n",
        "  \n",
        "  def train_step(x,t):\n",
        "    dw,db = model.compute_deltas(x,t)\n",
        "    #dw,db共に、0の場合だけ、trueが返される\n",
        "    loss = all(dw==0)*(db==0)\n",
        "    model.w = model.w-dw\n",
        "    model.b = model.b-db\n",
        "    return loss"
      ],
      "execution_count": 77,
      "outputs": []
    },
    {
      "cell_type": "code",
      "metadata": {
        "id": "chRfdkY5RKGT"
      },
      "source": [
        ""
      ],
      "execution_count": 85,
      "outputs": []
    },
    {
      "cell_type": "code",
      "metadata": {
        "id": "du0Z88LhR1rV"
      },
      "source": [
        "class SimplePerceptron(object):\n",
        "  \"\"\"\n",
        "  単純パーセプトロン\n",
        "  \"\"\"\n",
        "  #1,データの準備\n",
        "  def __init__(self,input_dim):\n",
        "    self.input_dim = input_dim\n",
        "    self.w = np.random.normal(size = (input_dim,))\n",
        "    self.b = 0\n",
        "\n",
        "  #2,モデルの構築\n",
        "  def forward(self,x):\n",
        "    y = step(np.matmul(self.w,x) + self.b)\n",
        "    return y\n",
        "\n",
        "  #3,モデルの学習\n",
        "  def compute_deltas(self,x,t):\n",
        "    y=self.forward(x)\n",
        "    delta = y-t\n",
        "    dw = delta*x\n",
        "    db = delta\n",
        "    return dw,db\n",
        "\n",
        "def step(x):\n",
        "  return 1*(x>0)   "
      ],
      "execution_count": 81,
      "outputs": []
    },
    {
      "cell_type": "code",
      "metadata": {
        "colab": {
          "base_uri": "https://localhost:8080/"
        },
        "id": "9j2cNkY1VYzX",
        "outputId": "732df54f-2c16-4cb6-9a1e-38db60d8113e"
      },
      "source": [
        "import numpy as np\n",
        "x =np.array([2,1,2])\n",
        "x\n",
        "\n",
        "y =np.array([[3,1,3],[1,2,4]])\n",
        "y"
      ],
      "execution_count": 2,
      "outputs": [
        {
          "output_type": "execute_result",
          "data": {
            "text/plain": [
              "array([[3, 1, 3],\n",
              "       [1, 2, 4]])"
            ]
          },
          "metadata": {
            "tags": []
          },
          "execution_count": 2
        }
      ]
    },
    {
      "cell_type": "code",
      "metadata": {
        "colab": {
          "base_uri": "https://localhost:8080/"
        },
        "id": "J4voruO9gyYB",
        "outputId": "74b3966c-b7ec-419e-e8b3-f00140fdfc02"
      },
      "source": [
        "np.matmul(y,x)"
      ],
      "execution_count": 106,
      "outputs": [
        {
          "output_type": "execute_result",
          "data": {
            "text/plain": [
              "array([13, 12])"
            ]
          },
          "metadata": {
            "tags": []
          },
          "execution_count": 106
        }
      ]
    },
    {
      "cell_type": "code",
      "metadata": {
        "colab": {
          "base_uri": "https://localhost:8080/"
        },
        "id": "lmPpYkGshNdg",
        "outputId": "1c789493-bde9-4618-cfa2-e95614daaa18"
      },
      "source": [
        "y*x"
      ],
      "execution_count": 107,
      "outputs": [
        {
          "output_type": "execute_result",
          "data": {
            "text/plain": [
              "array([[6, 1, 6],\n",
              "       [2, 2, 8]])"
            ]
          },
          "metadata": {
            "tags": []
          },
          "execution_count": 107
        }
      ]
    },
    {
      "cell_type": "code",
      "metadata": {
        "id": "sS30EPQ4ign1"
      },
      "source": [
        "#データの準備\n",
        "\n",
        "x = np.array([[0,0],[0,1],[1,0],[1,1]])\n",
        "t = np.array([0,1,1,1])\n",
        "\n"
      ],
      "execution_count": 85,
      "outputs": []
    },
    {
      "cell_type": "code",
      "metadata": {
        "id": "VCEEzK37lCvJ"
      },
      "source": [
        "## ロジスティック回帰\n",
        "\n",
        "class LogosticRegression(object):\n",
        "  def __init__(self,input_dim):\n",
        "    self.input_dim = input_dim\n",
        "    self.w = np.random.normal(size=(input_dim,))\n",
        "    self.b = 0\n",
        "\n",
        "  def __call__(self,x): #これは、model(x)とした時そのまま回答が出るようにする便利なやつ\n",
        "    return self.forward(x)\n",
        "\n",
        "  def forward(self,x):\n",
        "    return sigmoid(np.matmul(x,self.w)+self.b)\n",
        "\n",
        "  def compute_gradient(self,x,t):\n",
        "    y = self.forward(x)\n",
        "    delta = y-t\n",
        "    dw = np.matmul(x.T,delta)\n",
        "    db = np.matmul(np.ones(x.shape[0]),delta)\n",
        "    return dw,db\n",
        "\n",
        "def sigmoid(x):\n",
        "  return 1/(1+np.exp(-x))\n"
      ],
      "execution_count": 96,
      "outputs": []
    },
    {
      "cell_type": "code",
      "metadata": {
        "id": "WwBLT5_O6NbO"
      },
      "source": [
        "model = LogosticRegression(input_dim=2)"
      ],
      "execution_count": 97,
      "outputs": []
    },
    {
      "cell_type": "code",
      "metadata": {
        "colab": {
          "base_uri": "https://localhost:8080/"
        },
        "id": "y7UxuN8g6cQT",
        "outputId": "c3286ae0-3c44-41d6-cd8a-7df4310ade1c"
      },
      "source": [
        "\n",
        "#交差エントロピー誤差関数\n",
        "#これの最小値を求めていくのが今回の課題。\n",
        "def compute_loss(t,y):\n",
        "  rw = -1*(t*np.log(y)+(1-t)*np.log(1-y)).sum() \n",
        "  return rw\n",
        "def train_step(x,y):\n",
        "  dw,db = model.compute_gradient(x,t)\n",
        "  model.w = model.w-0.1*dw\n",
        "  model.b = model.b-0.1*db\n",
        "  loss = compute_loss(t,model(x))\n",
        "  return loss\n",
        "\n",
        "epochs = 100\n",
        "\n",
        "for epoch in range(epochs):\n",
        "  train_loss = train_step(x,t)\n",
        "\n",
        "  if epoch % 10 == 0 or epoch== epochs-1:\n",
        "    print(epoch+1,train_loss)"
      ],
      "execution_count": 99,
      "outputs": [
        {
          "output_type": "stream",
          "text": [
            "1 0.6766615374009524\n",
            "11 0.6375977637852859\n",
            "21 0.6025334250596772\n",
            "31 0.5708993158219461\n",
            "41 0.5422282506508158\n",
            "51 0.5161333380460635\n",
            "61 0.492291522844539\n",
            "71 0.4704309930147411\n",
            "81 0.45032144476032165\n",
            "91 0.43176648194832823\n",
            "100 0.41625644070659984\n"
          ],
          "name": "stdout"
        }
      ]
    },
    {
      "cell_type": "code",
      "metadata": {
        "colab": {
          "base_uri": "https://localhost:8080/"
        },
        "id": "J4DugacyAA45",
        "outputId": "d9fd87fe-5998-4bf4-b27f-336ce2ee6b1c"
      },
      "source": [
        "model.forward(x)\n"
      ],
      "execution_count": 102,
      "outputs": [
        {
          "output_type": "execute_result",
          "data": {
            "text/plain": [
              "array([0.2146671 , 0.91627751, 0.9185485 , 0.99779015])"
            ]
          },
          "metadata": {
            "tags": []
          },
          "execution_count": 102
        }
      ]
    },
    {
      "cell_type": "code",
      "metadata": {
        "colab": {
          "base_uri": "https://localhost:8080/"
        },
        "id": "Xhwb1zZBNzZU",
        "outputId": "917d89c7-d464-4078-8515-5f0a058ed968"
      },
      "source": [
        "t"
      ],
      "execution_count": 101,
      "outputs": [
        {
          "output_type": "execute_result",
          "data": {
            "text/plain": [
              "array([0, 1, 1, 1])"
            ]
          },
          "metadata": {
            "tags": []
          },
          "execution_count": 101
        }
      ]
    },
    {
      "cell_type": "code",
      "metadata": {
        "colab": {
          "base_uri": "https://localhost:8080/",
          "height": 282
        },
        "id": "DztmsewJN3HM",
        "outputId": "e7d5840d-79c1-46da-9f04-be6728c35202"
      },
      "source": [
        "import matplotlib.pyplot as plt\n",
        "import numpy as np\n",
        "x = np.arange(0,1,0.1)\n",
        "\n",
        "plt.plot(x,x*x*(1-x))\n",
        "x"
      ],
      "execution_count": 28,
      "outputs": [
        {
          "output_type": "execute_result",
          "data": {
            "text/plain": [
              "array([0. , 0.1, 0.2, 0.3, 0.4, 0.5, 0.6, 0.7, 0.8, 0.9])"
            ]
          },
          "metadata": {
            "tags": []
          },
          "execution_count": 28
        },
        {
          "output_type": "display_data",
          "data": {
            "image/png": "[encoded data removed]",
            "text/plain": [
              "<Figure size 432x288 with 1 Axes>"
            ]
          },
          "metadata": {
            "tags": [],
            "needs_background": "light"
          }
        }
      ]
    },
    {
      "cell_type": "code",
      "metadata": {
        "id": "lP-FUdhIvqow"
      },
      "source": [
        ""
      ],
      "execution_count": null,
      "outputs": []
    }
  ]
}